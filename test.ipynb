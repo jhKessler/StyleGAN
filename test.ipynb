{
 "cells": [
  {
   "cell_type": "code",
   "execution_count": 5,
   "metadata": {},
   "outputs": [
    {
     "data": {
      "text/plain": [
       "<matplotlib.image.AxesImage at 0x1c1f25e11c0>"
      ]
     },
     "execution_count": 5,
     "metadata": {},
     "output_type": "execute_result"
    },
    {
     "data": {
      "image/png": "[encoded data removed]",
      "text/plain": [
       "<Figure size 432x288 with 1 Axes>"
      ]
     },
     "metadata": {
      "needs_background": "light"
     },
     "output_type": "display_data"
    }
   ],
   "source": [
    "from skimage import io\n",
    "import matplotlib.pyplot as plt\n",
    "\n",
    "image = io.imread(r\"C:\\Users\\johnn\\Desktop\\StyleGAN\\fid_format_data\\fake\\998.png\")\n",
    "plt.imshow(image)"
   ]
  },
  {
   "cell_type": "code",
   "execution_count": 6,
   "metadata": {},
   "outputs": [
    {
     "data": {
      "text/plain": [
       "array([[[227, 199, 192],\n",
       "        [242, 218, 215],\n",
       "        [245, 226, 220],\n",
       "        ...,\n",
       "        [240, 224, 221],\n",
       "        [237, 218, 215],\n",
       "        [218, 202, 198]],\n",
       "\n",
       "       [[248, 226, 216],\n",
       "        [250, 229, 222],\n",
       "        [252, 236, 227],\n",
       "        ...,\n",
       "        [245, 230, 226],\n",
       "        [244, 228, 222],\n",
       "        [232, 221, 216]],\n",
       "\n",
       "       [[250, 228, 219],\n",
       "        [246, 224, 216],\n",
       "        [242, 226, 216],\n",
       "        ...,\n",
       "        [239, 224, 220],\n",
       "        [241, 225, 218],\n",
       "        [237, 224, 218]],\n",
       "\n",
       "       ...,\n",
       "\n",
       "       [[ 12,   0,   5],\n",
       "        [ 17,   4,  13],\n",
       "        [ 17,   9,  13],\n",
       "        ...,\n",
       "        [ 45,  32,  36],\n",
       "        [ 46,  33,  36],\n",
       "        [ 47,  35,  37]],\n",
       "\n",
       "       [[  7,   2,   6],\n",
       "        [  7,   0,  11],\n",
       "        [  9,   5,  13],\n",
       "        ...,\n",
       "        [ 44,  31,  35],\n",
       "        [ 43,  31,  35],\n",
       "        [ 45,  35,  37]],\n",
       "\n",
       "       [[ 23,  12,  15],\n",
       "        [ 13,   2,   5],\n",
       "        [ 10,   3,   4],\n",
       "        ...,\n",
       "        [ 51,  36,  39],\n",
       "        [ 49,  38,  40],\n",
       "        [ 56,  43,  43]]], dtype=uint8)"
      ]
     },
     "execution_count": 6,
     "metadata": {},
     "output_type": "execute_result"
    }
   ],
   "source": [
    "image"
   ]
  },
  {
   "cell_type": "code",
   "execution_count": null,
   "metadata": {},
   "outputs": [],
   "source": []
  }
 ],
 "metadata": {
  "interpreter": {
   "hash": "d165cc963bcabd8bdd323ef0c94434871da12394ba82de0f324bd3f8fc85e6b9"
  },
  "kernelspec": {
   "display_name": "Python 3.8.8 64-bit ('base': conda)",
   "name": "python3"
  },
  "language_info": {
   "codemirror_mode": {
    "name": "ipython",
    "version": 3
   },
   "file_extension": ".py",
   "mimetype": "text/x-python",
   "name": "python",
   "nbconvert_exporter": "python",
   "pygments_lexer": "ipython3",
   "version": "3.8.8"
  },
  "orig_nbformat": 4
 },
 "nbformat": 4,
 "nbformat_minor": 2
}
